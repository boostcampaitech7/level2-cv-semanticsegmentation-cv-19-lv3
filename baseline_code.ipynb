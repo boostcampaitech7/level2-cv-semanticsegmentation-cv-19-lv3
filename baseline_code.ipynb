{
 "cells": [
  {
   "cell_type": "markdown",
   "id": "fe5f1ca7",
   "metadata": {},
   "source": [
    "# Table of Contents\n",
    "\n",
    "1. [Imports & Global Constants](#Imports-&-Global-Constants)\n",
    "<br>&emsp;- 학습에 필요한 라이브러리들을 임포트 하고 미션 안에서 이루어지는 학습 전반을 컨트롤 하기 위한 파라미터들을 설정합니다.\n",
    "<br>\n",
    "\n",
    "2. [Check the Size of the Dataset](#Check-the-Size-of-the-Dataset)\n",
    "<br>&emsp;- 학습에 사용될 데이터가 잘 준비되어있는지 확인합니다.\n",
    "<br>\n",
    "\n",
    "3. [Define Dataset Class](#Define-Dataset-Class)\n",
    "<br>&emsp;- 데이터를 원하는 형태로 불러오기 위한 Dataset 클래스를 정의하고, validation을 위한 데이터 스플릿을 진행합니다.\n",
    "<br>\n",
    "\n",
    "4. [Check Data Sample](#Check-Data-Sample)\n",
    "<br>&emsp;- 제공된 데이터가 어떤 모습인지 확인합니다.\n",
    "<br>\n",
    "\n",
    "5. [Setup Dataloader](#Setup-Dataloader)\n",
    "<br>&emsp;- 학습을 위해 데이터를 배치로 불러오기 위한 Dataloader를 만듭니다.\n",
    "<br>\n",
    "\n",
    "6. [Define Functions for Training](#Define-Functions-for-Training)\n",
    "<br>&emsp;- 학습을 도와주는 함수들을 정의합니다.\n",
    "<br>\n",
    "\n",
    "7. [Training](#Training)\n",
    "<br>&emsp;- 학습을 진행합니다.\n",
    "<br>\n",
    "\n",
    "8. [Inference](#Inference)\n",
    "<br>&emsp;- 인퍼런스에 필요한 함수들을 정의하고, 인퍼런스를 진행합니다.\n",
    "<br>\n",
    "\n",
    "9. [Result Visualization](#Result-Visualization)\n",
    "<br>&emsp;- 인퍼런스 결과를 확인해봅니다.\n",
    "<br>\n",
    "\n",
    "10. [To CSV](#To-CSV)\n",
    "<br>&emsp;- 인퍼런스 결과를 제출을 위한 포맷으로 변경합니다."
   ]
  },
  {
   "cell_type": "markdown",
   "id": "2c2d2121",
   "metadata": {},
   "source": [
    "# Imports & Global Constants"
   ]
  },
  {
   "cell_type": "code",
   "execution_count": null,
   "id": "a3907598-e3f4-4c30-b1fe-759870903ecf",
   "metadata": {},
   "outputs": [],
   "source": [
    "# 노트북 실행에 필요한 라이브러리를 설치합니다\n",
    "\n",
    "# !pip install opencv-python-headless==4.10.0.84\n",
    "# !pip install pandas==2.2.3\n",
    "# !pip install -U scikit-learn==1.5.2\n",
    "# !pip install albumentations==1.4.18\n",
    "# !pip install matplotlib==3.9.2"
   ]
  },
  {
   "cell_type": "code",
   "execution_count": null,
   "id": "c8295cb6",
   "metadata": {},
   "outputs": [],
   "source": [
    "# python native\n",
    "import os\n",
    "import json\n",
    "import random\n",
    "import datetime\n",
    "from functools import partial\n",
    "\n",
    "# external library\n",
    "import cv2\n",
    "import numpy as np\n",
    "import pandas as pd\n",
    "from tqdm.auto import tqdm\n",
    "from sklearn.model_selection import GroupKFold\n",
    "import albumentations as A\n",
    "import time\n",
    "from datetime import timedelta\n",
    "\n",
    "# torch\n",
    "import torch\n",
    "import torch.nn as nn\n",
    "import torch.nn.functional as F\n",
    "import torch.optim as optim\n",
    "from torch.utils.data import Dataset, DataLoader\n",
    "from torchvision import models\n",
    "\n",
    "# visualization\n",
    "import matplotlib.pyplot as plt"
   ]
  },
  {
   "cell_type": "code",
   "execution_count": null,
   "id": "1d6746cc",
   "metadata": {},
   "outputs": [],
   "source": [
    "# 데이터 경로를 입력하세요\n",
    "\n",
    "IMAGE_ROOT = \"/data/ephemeral/home/data/train/DCM\"\n",
    "LABEL_ROOT = \"/data/ephemeral/home/data/train/outputs_json\""
   ]
  },
  {
   "cell_type": "code",
   "execution_count": null,
   "id": "819e163c",
   "metadata": {},
   "outputs": [],
   "source": [
    "CLASSES = [\n",
    "    'finger-1', 'finger-2', 'finger-3', 'finger-4', 'finger-5',\n",
    "    'finger-6', 'finger-7', 'finger-8', 'finger-9', 'finger-10',\n",
    "    'finger-11', 'finger-12', 'finger-13', 'finger-14', 'finger-15',\n",
    "    'finger-16', 'finger-17', 'finger-18', 'finger-19', 'Trapezium',\n",
    "    'Trapezoid', 'Capitate', 'Hamate', 'Scaphoid', 'Lunate',\n",
    "    'Triquetrum', 'Pisiform', 'Radius', 'Ulna',\n",
    "]"
   ]
  },
  {
   "cell_type": "code",
   "execution_count": null,
   "id": "3192cd81",
   "metadata": {},
   "outputs": [],
   "source": [
    "CLASS2IND = {v: i for i, v in enumerate(CLASSES)}"
   ]
  },
  {
   "cell_type": "code",
   "execution_count": null,
   "id": "1aef86f9",
   "metadata": {},
   "outputs": [],
   "source": [
    "IND2CLASS = {v: k for k, v in CLASS2IND.items()}"
   ]
  },
  {
   "cell_type": "code",
   "execution_count": null,
   "id": "cb199e3d",
   "metadata": {},
   "outputs": [],
   "source": [
    "TRAIN_BATCH_SIZE = 2\n",
    "VALID_BATCH_SIZE = 4\n",
    "LR = 2e-4\n",
    "RANDOM_SEED = 2024\n",
    "\n",
    "NUM_EPOCHS = 50\n",
    "VAL_EVERY = 2\n",
    "\n",
    "SAVED_DIR = \"/data/ephemeral/home/data/result\"\n",
    "\n",
    "if not os.path.exists(SAVED_DIR):                                    \n",
    "    os.makedirs(SAVED_DIR)"
   ]
  },
  {
   "cell_type": "markdown",
   "id": "52cc2a79",
   "metadata": {},
   "source": [
    "# Check the Size of the Dataset"
   ]
  },
  {
   "cell_type": "markdown",
   "id": "93533655",
   "metadata": {},
   "source": [
    "`IMAGE_ROOT` 아래에 있는 모든 폴더를 재귀적으로 순회하면서 확장자가 `.png`인 파일들을 찾습니다."
   ]
  },
  {
   "cell_type": "code",
   "execution_count": null,
   "id": "a0782493",
   "metadata": {},
   "outputs": [],
   "source": [
    "pngs = {\n",
    "    os.path.relpath(os.path.join(root, fname), start=IMAGE_ROOT)\n",
    "    for root, _dirs, files in os.walk(IMAGE_ROOT)\n",
    "    for fname in files\n",
    "    if os.path.splitext(fname)[1].lower() == \".png\"\n",
    "}"
   ]
  },
  {
   "cell_type": "code",
   "execution_count": null,
   "id": "91a88b61",
   "metadata": {},
   "outputs": [],
   "source": [
    "len(pngs)"
   ]
  },
  {
   "cell_type": "markdown",
   "id": "d2247d10",
   "metadata": {},
   "source": [
    "마찬가지로 `LABEL_ROOT` 아래에 있는 모든 폴더를 재귀적으로 순회하면서 확장자가 `.json`인 파일들을 찾습니다."
   ]
  },
  {
   "cell_type": "code",
   "execution_count": null,
   "id": "be21a515",
   "metadata": {},
   "outputs": [],
   "source": [
    "jsons = {\n",
    "    os.path.relpath(os.path.join(root, fname), start=LABEL_ROOT)\n",
    "    for root, _dirs, files in os.walk(LABEL_ROOT)\n",
    "    for fname in files\n",
    "    if os.path.splitext(fname)[1].lower() == \".json\"\n",
    "}"
   ]
  },
  {
   "cell_type": "code",
   "execution_count": null,
   "id": "eb99fd10",
   "metadata": {},
   "outputs": [],
   "source": [
    "len(jsons)"
   ]
  },
  {
   "cell_type": "markdown",
   "id": "653c3526",
   "metadata": {},
   "source": [
    "모든 `.png` 파일에 대해 `.json` pair가 존재하는지 체크합니다. 파일명에서 확장자를 제거한 set을 생성하고 두 집합의 차집합의 크기가 0인지 확인합니다."
   ]
  },
  {
   "cell_type": "code",
   "execution_count": null,
   "id": "51eba0f1",
   "metadata": {},
   "outputs": [],
   "source": [
    "jsons_fn_prefix = {os.path.splitext(fname)[0] for fname in jsons}\n",
    "pngs_fn_prefix = {os.path.splitext(fname)[0] for fname in pngs}\n",
    "\n",
    "assert len(jsons_fn_prefix - pngs_fn_prefix) == 0\n",
    "assert len(pngs_fn_prefix - jsons_fn_prefix) == 0"
   ]
  },
  {
   "cell_type": "markdown",
   "id": "b13ee425",
   "metadata": {},
   "source": [
    "모든 `.png` 파일에 대해 label이 존재하는 것을 확인했습니다. 이름 순으로 정렬해서 짝이 맞도록 합니다."
   ]
  },
  {
   "cell_type": "code",
   "execution_count": null,
   "id": "f589a513",
   "metadata": {},
   "outputs": [],
   "source": [
    "pngs = sorted(pngs)\n",
    "jsons = sorted(jsons)"
   ]
  },
  {
   "cell_type": "markdown",
   "id": "662f69ee",
   "metadata": {},
   "source": [
    "# Define Dataset Class"
   ]
  },
  {
   "cell_type": "code",
   "execution_count": null,
   "id": "7b0d5bf7",
   "metadata": {},
   "outputs": [],
   "source": [
    "class XRayDataset(Dataset):\n",
    "    def __init__(self, is_train=True, transforms=None):\n",
    "        _filenames = np.array(pngs)\n",
    "        _labelnames = np.array(jsons)\n",
    "        \n",
    "        # split train-valid\n",
    "        # 한 폴더 안에 한 인물의 양손에 대한 `.dcm` 파일이 존재하기 때문에\n",
    "        # 폴더 이름을 그룹으로 해서 GroupKFold를 수행합니다.\n",
    "        # 동일 인물의 손이 train, valid에 따로 들어가는 것을 방지합니다.\n",
    "        groups = [os.path.dirname(fname) for fname in _filenames]\n",
    "        \n",
    "        # dummy label\n",
    "        ys = [0 for fname in _filenames]\n",
    "        \n",
    "        # 전체 데이터의 20%를 validation data로 쓰기 위해 `n_splits`를\n",
    "        # 5으로 설정하여 KFold를 수행합니다.\n",
    "        gkf = GroupKFold(n_splits=5)\n",
    "        \n",
    "        filenames = []\n",
    "        labelnames = []\n",
    "        for i, (x, y) in enumerate(gkf.split(_filenames, ys, groups)):\n",
    "            if is_train:\n",
    "                # 0번을 validation dataset으로 사용합니다.\n",
    "                if i == 0:\n",
    "                    continue\n",
    "                    \n",
    "                filenames += list(_filenames[y])\n",
    "                labelnames += list(_labelnames[y])\n",
    "            \n",
    "            else:\n",
    "                filenames = list(_filenames[y])\n",
    "                labelnames = list(_labelnames[y])\n",
    "                \n",
    "                # skip i > 0\n",
    "                break\n",
    "        \n",
    "        self.filenames = filenames\n",
    "        self.labelnames = labelnames\n",
    "        self.is_train = is_train\n",
    "        self.transforms = transforms\n",
    "    \n",
    "    def __len__(self):\n",
    "        return len(self.filenames)\n",
    "    \n",
    "    def __getitem__(self, item):\n",
    "        image_name = self.filenames[item]\n",
    "        image_path = os.path.join(IMAGE_ROOT, image_name)\n",
    "        \n",
    "        image = cv2.imread(image_path)\n",
    "        image = image / 255.\n",
    "        \n",
    "        label_name = self.labelnames[item]\n",
    "        label_path = os.path.join(LABEL_ROOT, label_name)\n",
    "        \n",
    "        # (H, W, NC) 모양의 label을 생성합니다.\n",
    "        label_shape = tuple(image.shape[:2]) + (len(CLASSES), )\n",
    "        label = np.zeros(label_shape, dtype=np.uint8)\n",
    "        \n",
    "        # label 파일을 읽습니다.\n",
    "        with open(label_path, \"r\") as f:\n",
    "            annotations = json.load(f)\n",
    "        annotations = annotations[\"annotations\"]\n",
    "        \n",
    "        # 클래스 별로 처리합니다.\n",
    "        for ann in annotations:\n",
    "            c = ann[\"label\"]\n",
    "            class_ind = CLASS2IND[c]\n",
    "            points = np.array(ann[\"points\"])\n",
    "            \n",
    "            # polygon 포맷을 dense한 mask 포맷으로 바꿉니다.\n",
    "            class_label = np.zeros(image.shape[:2], dtype=np.uint8)\n",
    "            cv2.fillPoly(class_label, [points], 1)\n",
    "            label[..., class_ind] = class_label\n",
    "        \n",
    "        if self.transforms is not None:\n",
    "            inputs = {\"image\": image, \"mask\": label} if self.is_train else {\"image\": image}\n",
    "            result = self.transforms(**inputs)\n",
    "            \n",
    "            image = result[\"image\"]\n",
    "            label = result[\"mask\"] if self.is_train else label\n",
    "\n",
    "        # to tenser will be done later\n",
    "        image = image.transpose(2, 0, 1)    # channel first 포맷으로 변경합니다.\n",
    "        label = label.transpose(2, 0, 1)\n",
    "        \n",
    "        image = torch.from_numpy(image).float()\n",
    "        label = torch.from_numpy(label).float()\n",
    "            \n",
    "        return image, label"
   ]
  },
  {
   "cell_type": "markdown",
   "id": "302e7742",
   "metadata": {},
   "source": [
    "# Check Data Sample"
   ]
  },
  {
   "cell_type": "code",
   "execution_count": null,
   "id": "89defc8c",
   "metadata": {},
   "outputs": [],
   "source": [
    "# 시각화를 위한 팔레트를 설정합니다.\n",
    "PALETTE = [\n",
    "    (220, 20, 60), (119, 11, 32), (0, 0, 142), (0, 0, 230), (106, 0, 228),\n",
    "    (0, 60, 100), (0, 80, 100), (0, 0, 70), (0, 0, 192), (250, 170, 30),\n",
    "    (100, 170, 30), (220, 220, 0), (175, 116, 175), (250, 0, 30), (165, 42, 42),\n",
    "    (255, 77, 255), (0, 226, 252), (182, 182, 255), (0, 82, 0), (120, 166, 157),\n",
    "    (110, 76, 0), (174, 57, 255), (199, 100, 0), (72, 0, 118), (255, 179, 240),\n",
    "    (0, 125, 92), (209, 0, 151), (188, 208, 182), (0, 220, 176),\n",
    "]\n",
    "\n",
    "# 시각화 함수입니다. 클래스가 2개 이상인 픽셀을 고려하지는 않습니다.\n",
    "def label2rgb(label):\n",
    "    image_size = label.shape[1:] + (3, )\n",
    "    image = np.zeros(image_size, dtype=np.uint8)\n",
    "    \n",
    "    for i, class_label in enumerate(label):\n",
    "        image[class_label == 1] = PALETTE[i]\n",
    "        \n",
    "    return image"
   ]
  },
  {
   "cell_type": "code",
   "execution_count": null,
   "id": "e1f1eb8a",
   "metadata": {},
   "outputs": [],
   "source": [
    "train_tf = A.Compose([\n",
    "    A.Resize(1536, 1536),\n",
    "    A.HorizontalFlip(p=0.3),\n",
    "])\n",
    "val_tf = A.Resize(1536, 1536)\n",
    "# tf = A.Resize(1536, 1536)"
   ]
  },
  {
   "cell_type": "code",
   "execution_count": null,
   "id": "f17abc75",
   "metadata": {},
   "outputs": [],
   "source": [
    "train_dataset = XRayDataset(is_train=True, transforms=train_tf)\n",
    "valid_dataset = XRayDataset(is_train=False, transforms=val_tf)"
   ]
  },
  {
   "cell_type": "code",
   "execution_count": null,
   "id": "c193e92b",
   "metadata": {},
   "outputs": [],
   "source": [
    "image, label = train_dataset[146]"
   ]
  },
  {
   "cell_type": "code",
   "execution_count": null,
   "id": "5dd474b2",
   "metadata": {},
   "outputs": [],
   "source": [
    "print(image.shape, label.shape)"
   ]
  },
  {
   "cell_type": "code",
   "execution_count": null,
   "id": "bc100cf6",
   "metadata": {},
   "outputs": [],
   "source": [
    "len(train_dataset)"
   ]
  },
  {
   "cell_type": "code",
   "execution_count": null,
   "id": "f9845fe3",
   "metadata": {},
   "outputs": [],
   "source": [
    "fig, ax = plt.subplots(1, 2, figsize=(24, 12))\n",
    "ax[0].imshow(image[0])    # color map 적용을 위해 channel 차원을 생략합니다.\n",
    "ax[1].imshow(label2rgb(label))\n",
    "\n",
    "plt.show()"
   ]
  },
  {
   "cell_type": "markdown",
   "id": "22480ad8",
   "metadata": {},
   "source": [
    "# Setup Dataloader"
   ]
  },
  {
   "cell_type": "code",
   "execution_count": null,
   "id": "d5b43501",
   "metadata": {},
   "outputs": [],
   "source": [
    "train_loader = DataLoader(\n",
    "    dataset=train_dataset, \n",
    "    batch_size=TRAIN_BATCH_SIZE,\n",
    "    shuffle=True,\n",
    "    num_workers=4,\n",
    "    drop_last=True,\n",
    ")\n",
    "\n",
    "# 주의: validation data는 이미지 크기가 크기 때문에 `num_wokers`는 커지면 메모리 에러가 발생할 수 있습니다.\n",
    "valid_loader = DataLoader(\n",
    "    dataset=valid_dataset, \n",
    "    batch_size=VALID_BATCH_SIZE,\n",
    "    shuffle=False,\n",
    "    num_workers=1,\n",
    "    drop_last=False\n",
    ")"
   ]
  },
  {
   "cell_type": "markdown",
   "id": "75925001",
   "metadata": {},
   "source": [
    "# Define Functions for Training"
   ]
  },
  {
   "cell_type": "code",
   "execution_count": null,
   "id": "687f29a3",
   "metadata": {},
   "outputs": [],
   "source": [
    "def dice_coef(y_true, y_pred):\n",
    "    y_true_f = y_true.flatten(2)\n",
    "    y_pred_f = y_pred.flatten(2)\n",
    "    intersection = torch.sum(y_true_f * y_pred_f, -1)\n",
    "    \n",
    "    eps = 0.0001\n",
    "    return (2. * intersection + eps) / (torch.sum(y_true_f, -1) + torch.sum(y_pred_f, -1) + eps)"
   ]
  },
  {
   "cell_type": "code",
   "execution_count": null,
   "id": "19be0316",
   "metadata": {},
   "outputs": [],
   "source": [
    "def save_model(model, file_name='best_model.pt'):\n",
    "    output_path = os.path.join(SAVED_DIR, file_name)\n",
    "    torch.save(model, output_path)"
   ]
  },
  {
   "cell_type": "code",
   "execution_count": null,
   "id": "dd22e901",
   "metadata": {},
   "outputs": [],
   "source": [
    "def set_seed():\n",
    "    torch.manual_seed(RANDOM_SEED)\n",
    "    torch.cuda.manual_seed(RANDOM_SEED)\n",
    "    torch.cuda.manual_seed_all(RANDOM_SEED) # if use multi-GPU\n",
    "    torch.backends.cudnn.deterministic = True\n",
    "    torch.backends.cudnn.benchmark = False\n",
    "    np.random.seed(RANDOM_SEED)\n",
    "    random.seed(RANDOM_SEED)"
   ]
  },
  {
   "cell_type": "code",
   "execution_count": null,
   "id": "40c3a306",
   "metadata": {},
   "outputs": [],
   "source": [
    "def validation(epoch, model, data_loader, criterion, thr=0.5):\n",
    "    print(f'Start validation #{epoch:2d}')\n",
    "    set_seed()\n",
    "    model.eval()\n",
    "    \n",
    "    dices = []\n",
    "    model = model.cuda()\n",
    "    with torch.no_grad():\n",
    "        total_loss = 0\n",
    "        cnt = 0\n",
    "\n",
    "        for step, (images, masks) in tqdm(enumerate(data_loader), total=len(data_loader)):\n",
    "            images, masks = images.cuda(), masks.cuda()         \n",
    "            \n",
    "            # outputs = model(images)['out']\n",
    "            outputs = model(images)\n",
    "            \n",
    "            output_h, output_w = outputs.size(-2), outputs.size(-1)\n",
    "            mask_h, mask_w = masks.size(-2), masks.size(-1)\n",
    "            \n",
    "            # gt와 prediction의 크기가 다른 경우 prediction을 gt에 맞춰 interpolation 합니다.\n",
    "            if output_h != mask_h or output_w != mask_w:\n",
    "                outputs = F.interpolate(outputs, size=(mask_h, mask_w), mode=\"bilinear\")\n",
    "            \n",
    "            loss = criterion(outputs, masks)\n",
    "            total_loss += loss\n",
    "            cnt += 1\n",
    "            \n",
    "            outputs = torch.sigmoid(outputs)\n",
    "            outputs = (outputs > thr).detach().cpu()\n",
    "            masks = masks.detach().cpu()\n",
    "            \n",
    "            dice = dice_coef(outputs, masks)\n",
    "            dices.append(dice)\n",
    "\n",
    "            # 텐서 삭제 및 메모리 캐시 해제\n",
    "            del outputs, masks, dice\n",
    "            \n",
    "    dices = torch.cat(dices, 0)\n",
    "    dices_per_class = torch.mean(dices, 0)\n",
    "    dice_str = [\n",
    "        f\"{c:<12}: {d.item():.4f}\"\n",
    "        for c, d in zip(CLASSES, dices_per_class)\n",
    "    ]\n",
    "    dice_str = \"\\n\".join(dice_str)\n",
    "    print(dice_str)\n",
    "    \n",
    "    avg_dice = torch.mean(dices_per_class).item()\n",
    "    \n",
    "    return avg_dice"
   ]
  },
  {
   "cell_type": "code",
   "execution_count": null,
   "id": "3acde59b",
   "metadata": {},
   "outputs": [],
   "source": [
    "def train(model, data_loader, val_loader, criterion, optimizer):\n",
    "    print(f'Start training..')\n",
    "    set_seed()\n",
    "    best_dice = 0.\n",
    "\n",
    "    # GradScaler를 사용해 Mixed Precision Training을 설정\n",
    "    scaler = torch.cuda.amp.GradScaler(enabled=True)\n",
    "    model = model.cuda()\n",
    "    for epoch in range(NUM_EPOCHS):\n",
    "        # 매 epoch마다 cache를 삭제하여 PyTorch의 메모리 누수를 방지\n",
    "        torch.cuda.empty_cache()\n",
    "        model.train()\n",
    "        \n",
    "        for step, (images, masks) in enumerate(data_loader):            \n",
    "            # gpu 연산을 위해 device 할당합니다.\n",
    "            images, masks = images.cuda(), masks.cuda()\n",
    "            # model = model.cuda()\n",
    "            \n",
    "            # outputs = model(images)['out']\n",
    "            # outputs = model(images)\n",
    "            \n",
    "            # loss를 계산합니다.\n",
    "            # loss = criterion(outputs, masks)\n",
    "            # optimizer.zero_grad()\n",
    "            # loss.backward()\n",
    "            # optimizer.step()\n",
    "\n",
    "            # 스케일된 loss를 사용해 backward 및 optimizer step\n",
    "            optimizer.zero_grad()\n",
    "            \n",
    "            # Mixed Precision Training 적용\n",
    "            with torch.cuda.amp.autocast():\n",
    "                # outputs = model(images)['out']\n",
    "                outputs = model(images)\n",
    "                loss = criterion(outputs, masks)\n",
    "            \n",
    "            scaler.scale(loss).backward()\n",
    "            scaler.step(optimizer)\n",
    "            scaler.update()\n",
    "            \n",
    "            # step 주기에 따라 loss를 출력합니다.\n",
    "            if (step + 1) % 25 == 0:\n",
    "                print(\n",
    "                    f'{datetime.datetime.now().strftime(\"%Y-%m-%d %H:%M:%S\")} | '\n",
    "                    f'Epoch [{epoch+1}/{NUM_EPOCHS}], '\n",
    "                    f'Step [{step+1}/{len(train_loader)}], '\n",
    "                    f'Loss: {round(loss.item(),4)}'\n",
    "                )\n",
    "                \n",
    "        # validation 주기에 따라 loss를 출력하고 best model을 저장합니다.\n",
    "        if (epoch + 1) % VAL_EVERY == 0:\n",
    "            dice = validation(epoch + 1, model, val_loader, criterion)\n",
    "            \n",
    "            if best_dice < dice:\n",
    "                print(f\"Best performance at epoch: {epoch + 1}, {best_dice:.4f} -> {dice:.4f}\")\n",
    "                print(f\"Save model in {SAVED_DIR}\")\n",
    "                best_dice = dice\n",
    "                save_model(model)"
   ]
  },
  {
   "cell_type": "markdown",
   "id": "c10b856b",
   "metadata": {},
   "source": [
    "# Training"
   ]
  },
  {
   "cell_type": "code",
   "execution_count": null,
   "id": "73b106ab",
   "metadata": {},
   "outputs": [],
   "source": [
    "model = models.segmentation.fcn_resnet101(pretrained=True)\n",
    "\n",
    "# output class 개수를 dataset에 맞도록 수정합니다.\n",
    "model.classifier[4] = nn.Conv2d(512, len(CLASSES), kernel_size=1)"
   ]
  },
  {
   "cell_type": "code",
   "execution_count": null,
   "id": "497da034",
   "metadata": {},
   "outputs": [],
   "source": [
    "import segmentation_models_pytorch as smp\n",
    "\n",
    "model = smp.UnetPlusPlus(\n",
    "    encoder_name=\"tu-hrnet_w64\",\n",
    "    encoder_weights=\"imagenet\",\n",
    "    in_channels=3,\n",
    "    classes=29\n",
    ")"
   ]
  },
  {
   "cell_type": "code",
   "execution_count": null,
   "id": "801e9a3a",
   "metadata": {},
   "outputs": [],
   "source": [
    "# Loss function을 정의합니다.\n",
    "criterion = nn.BCEWithLogitsLoss()\n",
    "\n",
    "# Optimizer를 정의합니다.\n",
    "optimizer = optim.Adam(params=model.parameters(), lr=LR, weight_decay=1e-6)"
   ]
  },
  {
   "cell_type": "code",
   "execution_count": null,
   "id": "a11d1b92",
   "metadata": {},
   "outputs": [],
   "source": [
    "# 시드를 설정합니다.\n",
    "set_seed()"
   ]
  },
  {
   "cell_type": "code",
   "execution_count": null,
   "id": "7564c751",
   "metadata": {},
   "outputs": [],
   "source": [
    "train(model, train_loader, valid_loader, criterion, optimizer)"
   ]
  },
  {
   "cell_type": "markdown",
   "id": "85f36ce9",
   "metadata": {},
   "source": [
    "# Inference"
   ]
  },
  {
   "cell_type": "code",
   "execution_count": null,
   "id": "8b438c65",
   "metadata": {},
   "outputs": [],
   "source": [
    "model = torch.load(os.path.join(SAVED_DIR, \"best_model.pt\"))"
   ]
  },
  {
   "cell_type": "code",
   "execution_count": null,
   "id": "da6dd353",
   "metadata": {},
   "outputs": [],
   "source": [
    "# 테스트 데이터 경로를 입력하세요\n",
    "\n",
    "IMAGE_ROOT = \"/data/ephemeral/home/data/test/DCM\""
   ]
  },
  {
   "cell_type": "code",
   "execution_count": null,
   "id": "463d5c19",
   "metadata": {},
   "outputs": [],
   "source": [
    "pngs = {\n",
    "    os.path.relpath(os.path.join(root, fname), start=IMAGE_ROOT)\n",
    "    for root, _dirs, files in os.walk(IMAGE_ROOT)\n",
    "    for fname in files\n",
    "    if os.path.splitext(fname)[1].lower() == \".png\"\n",
    "}"
   ]
  },
  {
   "cell_type": "code",
   "execution_count": null,
   "id": "ecb5c065-b44b-4f82-ba6d-b41e3e7f6ad2",
   "metadata": {},
   "outputs": [],
   "source": [
    "len(pngs)"
   ]
  },
  {
   "cell_type": "code",
   "execution_count": null,
   "id": "3b2794ea",
   "metadata": {},
   "outputs": [],
   "source": [
    "# mask map으로 나오는 인퍼런스 결과를 RLE로 인코딩 합니다.\n",
    "\n",
    "def encode_mask_to_rle(mask):\n",
    "    '''\n",
    "    mask: numpy array binary mask \n",
    "    1 - mask \n",
    "    0 - background\n",
    "    Returns encoded run length \n",
    "    '''\n",
    "    pixels = mask.flatten()\n",
    "    pixels = np.concatenate([[0], pixels, [0]])\n",
    "    runs = np.where(pixels[1:] != pixels[:-1])[0] + 1\n",
    "    runs[1::2] -= runs[::2]\n",
    "    return ' '.join(str(x) for x in runs)"
   ]
  },
  {
   "cell_type": "code",
   "execution_count": null,
   "id": "1db55005",
   "metadata": {},
   "outputs": [],
   "source": [
    "# RLE로 인코딩된 결과를 mask map으로 복원합니다.\n",
    "\n",
    "def decode_rle_to_mask(rle, height, width):\n",
    "    s = rle.split()\n",
    "    starts, lengths = [np.asarray(x, dtype=int) for x in (s[0:][::2], s[1:][::2])]\n",
    "    starts -= 1\n",
    "    ends = starts + lengths\n",
    "    img = np.zeros(height * width, dtype=np.uint8)\n",
    "    \n",
    "    for lo, hi in zip(starts, ends):\n",
    "        img[lo:hi] = 1\n",
    "    \n",
    "    return img.reshape(height, width)"
   ]
  },
  {
   "cell_type": "code",
   "execution_count": null,
   "id": "8e98506f",
   "metadata": {},
   "outputs": [],
   "source": [
    "class XRayInferenceDataset(Dataset):\n",
    "    def __init__(self, transforms=None):\n",
    "        _filenames = pngs\n",
    "        _filenames = np.array(sorted(_filenames))\n",
    "        \n",
    "        self.filenames = _filenames\n",
    "        self.transforms = transforms\n",
    "    \n",
    "    def __len__(self):\n",
    "        return len(self.filenames)\n",
    "    \n",
    "    def __getitem__(self, item):\n",
    "        image_name = self.filenames[item]\n",
    "        image_path = os.path.join(IMAGE_ROOT, image_name)\n",
    "        \n",
    "        image = cv2.imread(image_path)\n",
    "        image = image / 255.\n",
    "        \n",
    "        if self.transforms is not None:\n",
    "            inputs = {\"image\": image}\n",
    "            result = self.transforms(**inputs)\n",
    "            image = result[\"image\"]\n",
    "\n",
    "        # to tenser will be done later\n",
    "        image = image.transpose(2, 0, 1)  \n",
    "        \n",
    "        image = torch.from_numpy(image).float()\n",
    "            \n",
    "        return image, image_name"
   ]
  },
  {
   "cell_type": "code",
   "execution_count": null,
   "id": "112a73a3",
   "metadata": {},
   "outputs": [],
   "source": [
    "def test(model, data_loader, thr=0.5):\n",
    "    model = model.cuda()\n",
    "    model.eval()\n",
    "\n",
    "    rles = []\n",
    "    filename_and_class = []\n",
    "    with torch.no_grad():\n",
    "        n_class = len(CLASSES)\n",
    "\n",
    "        for step, (images, image_names) in tqdm(enumerate(data_loader), total=len(data_loader)):\n",
    "            images = images.cuda()    \n",
    "            # outputs = model(images)['out']\n",
    "            outputs = model(images)\n",
    "            \n",
    "            outputs = F.interpolate(outputs, size=(2048, 2048), mode=\"bilinear\")\n",
    "            outputs = torch.sigmoid(outputs)\n",
    "            outputs = (outputs > thr).detach().cpu().numpy()\n",
    "            \n",
    "            for output, image_name in zip(outputs, image_names):\n",
    "                for c, segm in enumerate(output):\n",
    "                    rle = encode_mask_to_rle(segm)\n",
    "                    rles.append(rle)\n",
    "                    filename_and_class.append(f\"{IND2CLASS[c]}_{image_name}\")\n",
    "                    \n",
    "    return rles, filename_and_class"
   ]
  },
  {
   "cell_type": "code",
   "execution_count": null,
   "id": "8011f0cd",
   "metadata": {},
   "outputs": [],
   "source": [
    "tf = A.Resize(1536, 1536)"
   ]
  },
  {
   "cell_type": "code",
   "execution_count": null,
   "id": "bcb091af",
   "metadata": {},
   "outputs": [],
   "source": [
    "test_dataset = XRayInferenceDataset(transforms=tf)"
   ]
  },
  {
   "cell_type": "code",
   "execution_count": null,
   "id": "62aff8c2",
   "metadata": {},
   "outputs": [],
   "source": [
    "test_loader = DataLoader(\n",
    "    dataset=test_dataset, \n",
    "    batch_size=2,\n",
    "    shuffle=False,\n",
    "    num_workers=2,\n",
    "    drop_last=False\n",
    ")"
   ]
  },
  {
   "cell_type": "code",
   "execution_count": null,
   "id": "fa7c963b",
   "metadata": {},
   "outputs": [],
   "source": [
    "rles, filename_and_class = test(model, test_loader)"
   ]
  },
  {
   "cell_type": "markdown",
   "id": "28e9e8a2",
   "metadata": {},
   "source": [
    "# Result Visualization"
   ]
  },
  {
   "cell_type": "code",
   "execution_count": null,
   "id": "eeedc485",
   "metadata": {},
   "outputs": [],
   "source": [
    "filename_and_class[0]"
   ]
  },
  {
   "cell_type": "code",
   "execution_count": null,
   "id": "faa6b4a2",
   "metadata": {},
   "outputs": [],
   "source": [
    "image = cv2.imread(os.path.join(IMAGE_ROOT, filename_and_class[0].split(\"_\")[1]))"
   ]
  },
  {
   "cell_type": "code",
   "execution_count": null,
   "id": "5997f748",
   "metadata": {},
   "outputs": [],
   "source": [
    "preds = []\n",
    "for rle in rles[:len(CLASSES)]:\n",
    "    pred = decode_rle_to_mask(rle, height=2048, width=2048)\n",
    "    preds.append(pred)\n",
    "\n",
    "preds = np.stack(preds, 0)"
   ]
  },
  {
   "cell_type": "code",
   "execution_count": null,
   "id": "679f5401",
   "metadata": {},
   "outputs": [],
   "source": [
    "fig, ax = plt.subplots(1, 2, figsize=(24, 12))\n",
    "ax[0].imshow(image) # remove channel dimension\n",
    "ax[1].imshow(label2rgb(preds))\n",
    "\n",
    "plt.show()"
   ]
  },
  {
   "cell_type": "markdown",
   "id": "65f9b574",
   "metadata": {},
   "source": [
    "# To CSV"
   ]
  },
  {
   "cell_type": "code",
   "execution_count": null,
   "id": "e6c58f80",
   "metadata": {},
   "outputs": [],
   "source": [
    "classes, filename = zip(*[x.split(\"_\") for x in filename_and_class])"
   ]
  },
  {
   "cell_type": "code",
   "execution_count": null,
   "id": "4f489c54",
   "metadata": {},
   "outputs": [],
   "source": [
    "image_name = [os.path.basename(f) for f in filename]"
   ]
  },
  {
   "cell_type": "code",
   "execution_count": null,
   "id": "a33cd628",
   "metadata": {},
   "outputs": [],
   "source": [
    "df = pd.DataFrame({\n",
    "    \"image_name\": image_name,\n",
    "    \"class\": classes,\n",
    "    \"rle\": rles,\n",
    "})"
   ]
  },
  {
   "cell_type": "code",
   "execution_count": null,
   "id": "9b8ddbe2",
   "metadata": {},
   "outputs": [],
   "source": [
    "df.head(30)"
   ]
  },
  {
   "cell_type": "code",
   "execution_count": null,
   "id": "4e3829b6",
   "metadata": {},
   "outputs": [],
   "source": [
    "df.to_csv(\"smp_unet++_hrnet_w64_re(1536).csv\", index=False)"
   ]
  },
  {
   "cell_type": "code",
   "execution_count": null,
   "id": "3363ff1f",
   "metadata": {},
   "outputs": [],
   "source": []
  }
 ],
 "metadata": {
  "kernelspec": {
   "display_name": "base",
   "language": "python",
   "name": "python3"
  },
  "language_info": {
   "codemirror_mode": {
    "name": "ipython",
    "version": 3
   },
   "file_extension": ".py",
   "mimetype": "text/x-python",
   "name": "python",
   "nbconvert_exporter": "python",
   "pygments_lexer": "ipython3",
   "version": "3.10.13"
  }
 },
 "nbformat": 4,
 "nbformat_minor": 5
}
